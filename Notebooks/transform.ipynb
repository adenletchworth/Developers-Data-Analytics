{
 "cells": [
  {
   "cell_type": "code",
   "execution_count": 3,
   "metadata": {},
   "outputs": [],
   "source": [
    "repos = [{'forks_count': 0, 'stargazers_count': 1, 'watchers_count': 1, 'description': 'Create your own stream of payload messages to STDOUT from any API.', 'languages': ['TypeScript', 'JavaScript']}, {'forks_count': 0, 'stargazers_count': 0, 'watchers_count': 0, 'description': 'A pure Rust implementation of packwerk, a gradual modularization tool for Ruby', 'languages': ['Rust', 'Shell']}, {'forks_count': 0, 'stargazers_count': 0, 'watchers_count': 0, 'description': 'prueva para jenkins', 'languages': ['Puppet', 'JavaScript', 'HTML', 'Dockerfile']}]"
   ]
  },
  {
   "cell_type": "code",
   "execution_count": 4,
   "metadata": {},
   "outputs": [
    {
     "data": {
      "text/plain": [
       "[{'forks_count': 0,\n",
       "  'stargazers_count': 1,\n",
       "  'watchers_count': 1,\n",
       "  'description': 'Create your own stream of payload messages to STDOUT from any API.',\n",
       "  'languages': ['TypeScript', 'JavaScript']},\n",
       " {'forks_count': 0,\n",
       "  'stargazers_count': 0,\n",
       "  'watchers_count': 0,\n",
       "  'description': 'A pure Rust implementation of packwerk, a gradual modularization tool for Ruby',\n",
       "  'languages': ['Rust', 'Shell']},\n",
       " {'forks_count': 0,\n",
       "  'stargazers_count': 0,\n",
       "  'watchers_count': 0,\n",
       "  'description': 'prueva para jenkins',\n",
       "  'languages': ['Puppet', 'JavaScript', 'HTML', 'Dockerfile']}]"
      ]
     },
     "execution_count": 4,
     "metadata": {},
     "output_type": "execute_result"
    }
   ],
   "source": [
    "repos"
   ]
  },
  {
   "cell_type": "code",
   "execution_count": null,
   "metadata": {},
   "outputs": [],
   "source": [
    "# Lets add some more metrics later\n",
    "def get_popularity(fork, stars, watchers):\n",
    "    popularity_count =  fork + stars + watchers\n",
    "    popularity = None\n",
    "    if popularity_count < 3:\n",
    "        popularity = 'low'\n",
    "    elif popularity_count < 10:\n",
    "        popularity = 'medium'\n",
    "    else:\n",
    "        popularity = 'high'\n",
    "        \n",
    "    return {\n",
    "        'popularity': popularity,\n",
    "        'popularity_count': popularity_count\n",
    "    }"
   ]
  },
  {
   "cell_type": "code",
   "execution_count": null,
   "metadata": {},
   "outputs": [],
   "source": []
  }
 ],
 "metadata": {
  "kernelspec": {
   "display_name": "data_env",
   "language": "python",
   "name": "python3"
  },
  "language_info": {
   "codemirror_mode": {
    "name": "ipython",
    "version": 3
   },
   "file_extension": ".py",
   "mimetype": "text/x-python",
   "name": "python",
   "nbconvert_exporter": "python",
   "pygments_lexer": "ipython3",
   "version": "3.10.11"
  }
 },
 "nbformat": 4,
 "nbformat_minor": 2
}
