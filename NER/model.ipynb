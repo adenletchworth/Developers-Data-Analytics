{
 "cells": [
  {
   "cell_type": "code",
   "execution_count": 2,
   "metadata": {},
   "outputs": [],
   "source": [
    "import json\n",
    "from gensim.models import Word2Vec\n",
    "from gensim.models.keyedvectors import KeyedVectors\n",
    "import multiprocessing\n",
    "import re "
   ]
  },
  {
   "cell_type": "code",
   "execution_count": 7,
   "metadata": {},
   "outputs": [],
   "source": [
    "def training(model_name):\n",
    "    with open('./NER_DATA/word2vec.json', 'r', encoding='utf-8') as f:\n",
    "        data = json.load(f)\n",
    "    \n",
    "    # Extracting just the tokenized sentences from the JSON data\n",
    "    sentences = [item['tokenized'] for item in data]\n",
    "    \n",
    "    # Initialize the Word2Vec model\n",
    "    word2vec_model = Word2Vec(vector_size=300, window=5, min_count=1, workers=multiprocessing.cpu_count()-1)\n",
    "    \n",
    "    # Building vocabulary from the sentences\n",
    "    word2vec_model.build_vocab(sentences)\n",
    "    \n",
    "    # Training the Word2Vec model\n",
    "    word2vec_model.train(sentences, total_examples=word2vec_model.corpus_count, epochs=30)\n",
    "    \n",
    "    # Saving the trained model\n",
    "    word2vec_model.save(model_name + \".model\")\n",
    "\n",
    "training('01')"
   ]
  }
 ],
 "metadata": {
  "kernelspec": {
   "display_name": "data_env",
   "language": "python",
   "name": "python3"
  },
  "language_info": {
   "codemirror_mode": {
    "name": "ipython",
    "version": 3
   },
   "file_extension": ".py",
   "mimetype": "text/x-python",
   "name": "python",
   "nbconvert_exporter": "python",
   "pygments_lexer": "ipython3",
   "version": "3.10.11"
  }
 },
 "nbformat": 4,
 "nbformat_minor": 2
}
