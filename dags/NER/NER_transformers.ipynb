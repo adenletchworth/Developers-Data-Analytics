{
 "cells": [
  {
   "cell_type": "code",
   "execution_count": 28,
   "metadata": {},
   "outputs": [],
   "source": [
    "from transformers import AutoTokenizer, AutoModelForTokenClassification\n",
    "import torch"
   ]
  },
  {
   "cell_type": "code",
   "execution_count": 29,
   "metadata": {},
   "outputs": [
    {
     "data": {
      "text/plain": [
       "BertForTokenClassification(\n",
       "  (bert): BertModel(\n",
       "    (embeddings): BertEmbeddings(\n",
       "      (word_embeddings): Embedding(28996, 768, padding_idx=0)\n",
       "      (position_embeddings): Embedding(512, 768)\n",
       "      (token_type_embeddings): Embedding(2, 768)\n",
       "      (LayerNorm): LayerNorm((768,), eps=1e-12, elementwise_affine=True)\n",
       "      (dropout): Dropout(p=0.1, inplace=False)\n",
       "    )\n",
       "    (encoder): BertEncoder(\n",
       "      (layer): ModuleList(\n",
       "        (0-11): 12 x BertLayer(\n",
       "          (attention): BertAttention(\n",
       "            (self): BertSelfAttention(\n",
       "              (query): Linear(in_features=768, out_features=768, bias=True)\n",
       "              (key): Linear(in_features=768, out_features=768, bias=True)\n",
       "              (value): Linear(in_features=768, out_features=768, bias=True)\n",
       "              (dropout): Dropout(p=0.1, inplace=False)\n",
       "            )\n",
       "            (output): BertSelfOutput(\n",
       "              (dense): Linear(in_features=768, out_features=768, bias=True)\n",
       "              (LayerNorm): LayerNorm((768,), eps=1e-12, elementwise_affine=True)\n",
       "              (dropout): Dropout(p=0.1, inplace=False)\n",
       "            )\n",
       "          )\n",
       "          (intermediate): BertIntermediate(\n",
       "            (dense): Linear(in_features=768, out_features=3072, bias=True)\n",
       "            (intermediate_act_fn): GELUActivation()\n",
       "          )\n",
       "          (output): BertOutput(\n",
       "            (dense): Linear(in_features=3072, out_features=768, bias=True)\n",
       "            (LayerNorm): LayerNorm((768,), eps=1e-12, elementwise_affine=True)\n",
       "            (dropout): Dropout(p=0.1, inplace=False)\n",
       "          )\n",
       "        )\n",
       "      )\n",
       "    )\n",
       "  )\n",
       "  (dropout): Dropout(p=0.1, inplace=False)\n",
       "  (classifier): Linear(in_features=768, out_features=29, bias=True)\n",
       ")"
      ]
     },
     "execution_count": 29,
     "metadata": {},
     "output_type": "execute_result"
    }
   ],
   "source": [
    "directory = './models/Transformers'\n",
    "\n",
    "# Load the tokenizer and model\n",
    "tokenizer = AutoTokenizer.from_pretrained(directory)\n",
    "model = AutoModelForTokenClassification.from_pretrained(directory)\n",
    "model.eval()"
   ]
  },
  {
   "cell_type": "code",
   "execution_count": 30,
   "metadata": {},
   "outputs": [],
   "source": [
    "sample_text = \"In a Deep Learning distributed computing environment, nodes execute algorithms concurrently, leveraging data structures such as hash tables and binary trees, while protocols like TCP/IP ensure reliable data transmission, and security measures such as encryption and blockchain technology safeguard sensitive information against cyber threats.\"\n",
    "inputs = tokenizer(sample_text, return_tensors=\"pt\", truncation=True, is_split_into_words=False)"
   ]
  },
  {
   "cell_type": "code",
   "execution_count": 31,
   "metadata": {},
   "outputs": [],
   "source": [
    "id2tag = {0: 'E-DATASET',\n",
    " 1: 'I-RESEARCH_PROBLEM',\n",
    " 2: 'B-METHOD',\n",
    " 3: 'I-TOOL',\n",
    " 4: 'B-TOOL',\n",
    " 5: 'E-TOOL',\n",
    " 6: 'E-RESOURCE',\n",
    " 7: 'E-SOLUTION',\n",
    " 8: 'S-RESEARCH_PROBLEM',\n",
    " 9: 'I-DATASET',\n",
    " 10: 'B-RESEARCH_PROBLEM',\n",
    " 11: 'B-LANGUAGE',\n",
    " 12: 'B-RESOURCE',\n",
    " 13: 'S-RESOURCE',\n",
    " 14: 'E-METHOD',\n",
    " 15: 'B-DATASET',\n",
    " 16: 'I-METHOD',\n",
    " 17: 'I-LANGUAGE',\n",
    " 18: 'I-SOLUTION',\n",
    " 19: 'S-SOLUTION',\n",
    " 20: 'S-LANGUAGE',\n",
    " 21: 'S-METHOD',\n",
    " 22: 'S-DATASET',\n",
    " 23: 'S-TOOL',\n",
    " 24: 'E-LANGUAGE',\n",
    " 25: 'E-RESEARCH_PROBLEM',\n",
    " 26: 'B-SOLUTION',\n",
    " 27: 'O',\n",
    " 28: 'I-RESOURCE'}"
   ]
  },
  {
   "cell_type": "code",
   "execution_count": 37,
   "metadata": {},
   "outputs": [
    {
     "name": "stdout",
     "output_type": "stream",
     "text": [
      "Token\tPredicted Tag\n",
      "distributed\tE-RESEARCH_PROBLEM\n",
      "computing\tE-RESEARCH_PROBLEM\n",
      "data\tE-RESEARCH_PROBLEM\n",
      "hash\tE-RESEARCH_PROBLEM\n",
      "trees\tE-RESEARCH_PROBLEM\n",
      "data\tE-RESEARCH_PROBLEM\n",
      "transmission\tE-RESEARCH_PROBLEM\n",
      "encryption\tE-RESEARCH_PROBLEM\n",
      "blockchain\tB-RESEARCH_PROBLEM\n",
      "information\tE-RESEARCH_PROBLEM\n",
      "cyber\tB-RESEARCH_PROBLEM\n",
      ".\tI-RESEARCH_PROBLEM\n",
      "[SEP]\tI-RESEARCH_PROBLEM\n"
     ]
    }
   ],
   "source": [
    "with torch.no_grad():\n",
    "    outputs = model(**inputs)\n",
    "    predictions = torch.argmax(outputs.logits, dim=-1)\n",
    "\n",
    "# Retrieve tokens and their corresponding tags\n",
    "tokens = tokenizer.convert_ids_to_tokens(inputs[\"input_ids\"][0])\n",
    "tags = [id2tag[i] for i in predictions[0].numpy()]  # Assuming id2tag is available\n",
    "\n",
    "# Combine subwords and filter based on tag\n",
    "full_tokens = []\n",
    "current_token = \"\"\n",
    "for token, tag in zip(tokens, tags):\n",
    "    if token.startswith(\"##\"):\n",
    "        current_token += token[2:]  # Remove '##' and append\n",
    "    else:\n",
    "        if current_token:  # Push the previous full token\n",
    "            full_tokens.append((current_token, prev_tag))\n",
    "        current_token = token  # Start a new token\n",
    "        prev_tag = tag\n",
    "\n",
    "# Append the last token\n",
    "if current_token:\n",
    "    full_tokens.append((current_token, prev_tag))\n",
    "\n",
    "print(\"Token\\tPredicted Tag\")\n",
    "for token, tag in full_tokens:\n",
    "    if tag != 'O': \n",
    "        print(f\"{token}\\t{tag}\")"
   ]
  }
 ],
 "metadata": {
  "kernelspec": {
   "display_name": "data_env",
   "language": "python",
   "name": "python3"
  },
  "language_info": {
   "codemirror_mode": {
    "name": "ipython",
    "version": 3
   },
   "file_extension": ".py",
   "mimetype": "text/x-python",
   "name": "python",
   "nbconvert_exporter": "python",
   "pygments_lexer": "ipython3",
   "version": "3.11.3"
  }
 },
 "nbformat": 4,
 "nbformat_minor": 2
}
